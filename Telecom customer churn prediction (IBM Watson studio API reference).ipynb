{
 "cells": [
  {
   "cell_type": "code",
   "execution_count": 23,
   "id": "e6d855fe",
   "metadata": {},
   "outputs": [],
   "source": [
    "import requests\n",
    "\n",
    "import json"
   ]
  },
  {
   "cell_type": "code",
   "execution_count": 34,
   "id": "2e8862cd",
   "metadata": {},
   "outputs": [
    {
     "name": "stdout",
     "output_type": "stream",
     "text": [
      "Scoring response\n",
      "{'predictions': [{'fields': ['prediction', 'probability'], 'values': [[0, [0.5306418238572117, 0.46935817614278824]]]}]}\n"
     ]
    }
   ],
   "source": [
    "import requests\n",
    "\n",
    "# NOTE: you must manually set API_KEY below using information retrieved from your IBM Cloud account.\n",
    "API_KEY = \"0fPbnCnAnfrUCjaUKYeMj9WgP6o-_13Dp7-IZJZQr85o\"\n",
    "token_response = requests.post('https://iam.cloud.ibm.com/identity/token', data={\"apikey\": API_KEY, \"grant_type\": 'urn:ibm:params:oauth:grant-type:apikey'})\n",
    "mltoken = token_response.json()[\"access_token\"]\n",
    "\n",
    "header = {'Content-Type': 'application/json', 'Authorization': 'Bearer ' + mltoken}\n",
    "\n",
    "# NOTE: manually define and pass the array(s) of values to be scored in the next line\n",
    "payload_scoring = {\"input_data\": [{'fields': ['gender',\n",
    "    'SeniorCitizen',\n",
    "    'Partner',\n",
    "    'Dependents',\n",
    "    'tenure',\n",
    "    'PhoneService',\n",
    "    'MultipleLines',\n",
    "    'InternetService',\n",
    "    'OnlineSecurity',\n",
    "    'OnlineBackup',\n",
    "    'DeviceProtection',\n",
    "    'TechSupport',\n",
    "    'StreamingTV',\n",
    "    'StreamingMovies',\n",
    "    'Contract',\n",
    "    'PaperlessBilling',\n",
    "    'PaymentMethod',\n",
    "    'MonthlyCharges',\n",
    "    'TotalCharges'],\n",
    "    \"values\": [[0.0,\n",
    "     0.0,\n",
    "     0.0,\n",
    "     0.0,\n",
    "     -0.629446027814582,\n",
    "     1.0,\n",
    "     2.0,\n",
    "     2.0,\n",
    "     1.0,\n",
    "     1.0,\n",
    "     1.0,\n",
    "     1.0,\n",
    "     1.0,\n",
    "     1.0,\n",
    "     0.0,\n",
    "     0.0,\n",
    "     3.0,\n",
    "     -1.322051671307397,\n",
    "     -0.8000098038460207]]}]}\n",
    "\n",
    "response_scoring = requests.post('https://us-south.ml.cloud.ibm.com/ml/v4/deployments/f48aa481-a49e-4cff-a94b-d6d8102d150d/predictions?version=2021-11-03&version=2021-11-03', json=payload_scoring, headers={'Authorization': 'Bearer ' + mltoken})\n",
    "print(\"Scoring response\")\n",
    "print(response_scoring.json())"
   ]
  },
  {
   "cell_type": "code",
   "execution_count": 43,
   "id": "65540af1",
   "metadata": {},
   "outputs": [
    {
     "name": "stdout",
     "output_type": "stream",
     "text": [
      "Customer will likely to continue with her subscription (won't churn)\n"
     ]
    }
   ],
   "source": [
    "result = response_scoring.json()\n",
    "if result[\"predictions\"][0][\"values\"][0][0] == 0:\n",
    "    print(\"Customer will likely to continue with her subscription (won't churn)\")\n",
    "else:\n",
    "    print(\"Customer will churn\")\n"
   ]
  }
 ],
 "metadata": {
  "kernelspec": {
   "display_name": "Python 3",
   "language": "python",
   "name": "python3"
  },
  "language_info": {
   "codemirror_mode": {
    "name": "ipython",
    "version": 3
   },
   "file_extension": ".py",
   "mimetype": "text/x-python",
   "name": "python",
   "nbconvert_exporter": "python",
   "pygments_lexer": "ipython3",
   "version": "3.8.8"
  }
 },
 "nbformat": 4,
 "nbformat_minor": 5
}
